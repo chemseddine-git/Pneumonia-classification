{
 "cells": [
  {
   "cell_type": "code",
   "execution_count": 1,
   "metadata": {},
   "outputs": [
    {
     "name": "stderr",
     "output_type": "stream",
     "text": [
      "Using TensorFlow backend.\n"
     ]
    }
   ],
   "source": [
    "import numpy as np\n",
    "import pandas as pd\n",
    "import pydicom\n",
    "%matplotlib inline\n",
    "import matplotlib.pyplot as plt\n",
    "import keras \n",
    "from keras.models import model_from_json\n",
    "from skimage import color\n",
    "from skimage.transform import resize"
   ]
  },
  {
   "cell_type": "code",
   "execution_count": 2,
   "metadata": {},
   "outputs": [],
   "source": [
    "# Reading .dcm file and returns a numpy array of the imaging data\n",
    "\n",
    "def check_dicom(filename): \n",
    "    print('Load file {} ...'.format(filename))\n",
    "    ds = pydicom.dcmread(filename) \n",
    "    if ds.Modality != 'DX' or ds.BodyPartExamined not in ('CHEST', 'RIBCAGE', 'LUNG', 'CHESTABDOMEN'):\n",
    "        print('*******************')\n",
    "        print('This is not a chest xray')\n",
    "        print('*******************\\n')\n",
    "        return None\n",
    "    img = ds.pixel_array\n",
    "    return img"
   ]
  },
  {
   "cell_type": "code",
   "execution_count": 3,
   "metadata": {},
   "outputs": [],
   "source": [
    "def check_pneumonia(filename): \n",
    "    print('Checking pneumonia in header {} ...'.format(filename))\n",
    "    ds = pydicom.dcmread(filename)     \n",
    "    pneumonia = 'pneumonia'  in ds.StudyDescription.lower()\n",
    "    return pneumonia"
   ]
  },
  {
   "cell_type": "code",
   "execution_count": 4,
   "metadata": {},
   "outputs": [],
   "source": [
    "# Preprocessing  of the imaging data\n",
    "\n",
    "def preprocess_image(filename, img, model_input_size):\n",
    "    print('Preprocessing image ...')\n",
    "    proc_img = resize(img, (model_input_size[1], model_input_size[2])) #resizing\n",
    "    proc_img = proc_img/255 # Normalization\n",
    "    \n",
    "    if pydicom.dcmread(filename).PhotometricInterpretation == 'MONOCHROME2': \n",
    "        proc_img = color.grey2rgb(proc_img) #converting to rgb\n",
    "        proc_img = proc_img.reshape(model_input_size) \n",
    "        \n",
    "    if pydicom.dcmread(filename).PhotometricInterpretation == 'MONOCHROME1':\n",
    "        proc_img = 1-proc_img # inverting color\n",
    "        proc_img = color.grey2rgb(proc_img) #converting to rgb\n",
    "        proc_img = proc_img.reshape(model_input_size)    \n",
    "\n",
    "    return proc_img"
   ]
  },
  {
   "cell_type": "code",
   "execution_count": 5,
   "metadata": {},
   "outputs": [],
   "source": [
    "# Loading trained model with weights and compiles it \n",
    "\n",
    "def load_model(model_path, weight_path):\n",
    "    print('loading model')\n",
    "    json_file = open(model_path, 'r')\n",
    "    loaded_model_json = json_file.read()\n",
    "    json_file.close()\n",
    "    model = model_from_json(loaded_model_json)\n",
    "    model.load_weights(weight_path)\n",
    "    print('Loaded model from disk')\n",
    "    \n",
    "    return model"
   ]
  },
  {
   "cell_type": "code",
   "execution_count": 6,
   "metadata": {},
   "outputs": [],
   "source": [
    "# This function uses our device's threshold parameters to predict whether or not\n",
    "# the image shows the presence of pneumonia using our trained model\n",
    "def predict_image(model, img, thresh): \n",
    "    print('Predicting label ...')\n",
    "    prediction = model.predict(img, verbose = True)    \n",
    "    prediction = 0 if prediction < thresh else 1\n",
    "    return prediction"
   ]
  },
  {
   "cell_type": "code",
   "execution_count": 7,
   "metadata": {},
   "outputs": [],
   "source": [
    "def decoder(boolean):\n",
    "    decoded = 'pneumonia' if boolean else 'non-pneumonia'\n",
    "    return decoded"
   ]
  },
  {
   "cell_type": "code",
   "execution_count": 8,
   "metadata": {},
   "outputs": [
    {
     "name": "stdout",
     "output_type": "stream",
     "text": [
      "loading model\n",
      "Loaded model from disk\n"
     ]
    }
   ],
   "source": [
    "test_dicoms = ['test1.dcm','test2.dcm','test3.dcm','test4.dcm','test5.dcm','test6.dcm']\n",
    "\n",
    "model_path = 'my_model.json'\n",
    "weight_path = './xray_class_my_model.best.hdf5'\n",
    "\n",
    "model_input_size=(1,224,224,3)\n",
    "\n",
    "my_model = load_model(model_path, weight_path)\n",
    "thresh = 0.44 # value giving maximum f score during the training "
   ]
  },
  {
   "cell_type": "code",
   "execution_count": 9,
   "metadata": {},
   "outputs": [
    {
     "name": "stdout",
     "output_type": "stream",
     "text": [
      "Load file test1.dcm ...\n",
      "Preprocessing image ...\n",
      "Checking pneumonia in header test1.dcm ...\n",
      "Predicting label ...\n",
      "1/1 [==============================] - 1s 888ms/step\n",
      "*******************\n",
      "This non-pneumonia case is predicted as non-pneumonia\n",
      "*******************\n",
      "\n",
      "Load file test2.dcm ...\n",
      "Preprocessing image ...\n",
      "Checking pneumonia in header test2.dcm ...\n",
      "Predicting label ...\n",
      "1/1 [==============================] - 1s 604ms/step\n",
      "*******************\n",
      "This non-pneumonia case is predicted as non-pneumonia\n",
      "*******************\n",
      "\n",
      "Load file test3.dcm ...\n",
      "Preprocessing image ...\n",
      "Checking pneumonia in header test3.dcm ...\n",
      "Predicting label ...\n",
      "1/1 [==============================] - 1s 586ms/step\n",
      "*******************\n",
      "This non-pneumonia case is predicted as non-pneumonia\n",
      "*******************\n",
      "\n",
      "Load file test4.dcm ...\n",
      "Preprocessing image ...\n",
      "Checking pneumonia in header test4.dcm ...\n",
      "Predicting label ...\n",
      "1/1 [==============================] - 1s 602ms/step\n",
      "*******************\n",
      "This non-pneumonia case is predicted as non-pneumonia\n",
      "*******************\n",
      "\n",
      "Load file test5.dcm ...\n",
      "*******************\n",
      "This is not a chest xray\n",
      "*******************\n",
      "\n",
      "Load file test6.dcm ...\n",
      "Preprocessing image ...\n",
      "Checking pneumonia in header test6.dcm ...\n",
      "Predicting label ...\n",
      "1/1 [==============================] - 1s 584ms/step\n",
      "*******************\n",
      "This non-pneumonia case is predicted as non-pneumonia\n",
      "*******************\n",
      "\n"
     ]
    }
   ],
   "source": [
    "# use the .dcm files to test predictions\n",
    "for filename in test_dicoms:\n",
    "    \n",
    "    img = np.array([])\n",
    "    img = check_dicom(filename)\n",
    "    pydicom.dcmread(filename)\n",
    "    if img is None :\n",
    "        continue\n",
    "    img_proc = preprocess_image(filename,img,model_input_size)   \n",
    "    pneumonia = check_pneumonia(filename)\n",
    "    pred = predict_image(my_model,img_proc,thresh)\n",
    "    print('*******************')\n",
    "    print('This {} case is predicted as {}'.format(decoder(pneumonia), decoder(pred)))\n",
    "    print('*******************\\n')"
   ]
  }
 ],
 "metadata": {
  "kernelspec": {
   "display_name": "Python 3",
   "language": "python",
   "name": "python3"
  },
  "language_info": {
   "codemirror_mode": {
    "name": "ipython",
    "version": 3
   },
   "file_extension": ".py",
   "mimetype": "text/x-python",
   "name": "python",
   "nbconvert_exporter": "python",
   "pygments_lexer": "ipython3",
   "version": "3.7.9"
  }
 },
 "nbformat": 4,
 "nbformat_minor": 2
}
